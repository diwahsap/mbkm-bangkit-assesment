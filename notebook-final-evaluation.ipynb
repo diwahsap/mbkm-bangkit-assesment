{
  "nbformat": 4,
  "nbformat_minor": 0,
  "metadata": {
    "colab": {
      "provenance": []
    },
    "kernelspec": {
      "name": "python3",
      "display_name": "Python 3"
    },
    "language_info": {
      "name": "python"
    }
  },
  "cells": [
    {
      "cell_type": "markdown",
      "source": [
        "If you have any question, you **can ask me through Discord -> diwahsap** (ML-59)\n",
        "\n",
        "\n",
        "`Catatan`\n",
        "1. Jangan lupa untuk masukkan email dan password di *Login, to Get Access Token*\n",
        "2. Upload berkas xlsx, dan ubah pathnya di *Load Data*\n",
        "3. Tutorial [sini](https://youtu.be/mABOxEzuEtY)\n",
        "---\n",
        "\n"
      ],
      "metadata": {
        "id": "cHUTbzz1quiI"
      }
    },
    {
      "cell_type": "code",
      "source": [
        "!pip install fuzzywuzzy[speedup]"
      ],
      "metadata": {
        "id": "6g_sdAH2PiOx"
      },
      "execution_count": null,
      "outputs": []
    },
    {
      "cell_type": "code",
      "source": [
        "import json\n",
        "import numpy as np\n",
        "import pandas as pd\n",
        "from fuzzywuzzy import process\n",
        "import requests\n",
        "\n",
        "class NpEncoder(json.JSONEncoder):\n",
        "    def default(self, obj):\n",
        "        if isinstance(obj, np.integer):\n",
        "            return int(obj)\n",
        "        if isinstance(obj, np.floating):\n",
        "            return float(obj)\n",
        "        if isinstance(obj, np.ndarray):\n",
        "            return obj.tolist()\n",
        "        return super(NpEncoder, self).default(obj)"
      ],
      "metadata": {
        "id": "um4Tyv0UTnt9"
      },
      "execution_count": null,
      "outputs": []
    },
    {
      "cell_type": "markdown",
      "source": [
        "# Login, to Get Access Token"
      ],
      "metadata": {
        "id": "hEvvkMf4pMhU"
      }
    },
    {
      "cell_type": "code",
      "execution_count": null,
      "metadata": {
        "id": "xGrFEgZd1wlP"
      },
      "outputs": [],
      "source": [
        "url = \"https://api.kampusmerdeka.kemdikbud.go.id/v1alpha1/mentors/login\"\n",
        "\n",
        "headers = {\n",
        "    \"Accept\": \"application/json\",\n",
        "    \"Accept-Encoding\": \"gzip, deflate, br, zstd\",\n",
        "    \"Accept-Language\": \"en-US,en;q=0.9\",\n",
        "    \"Content-Type\": \"application/json\",\n",
        "    \"Origin\": \"https://mentor.kampusmerdeka.kemdikbud.go.id\",\n",
        "    \"Referer\": \"https://mentor.kampusmerdeka.kemdikbud.go.id/\",\n",
        "    \"sec-ch-ua\": '\"Not/A)Brand\";v=\"8\", \"Chromium\";v=\"126\", \"Google Chrome\";v=\"126\"',\n",
        "    \"sec-ch-ua-mobile\": \"?0\",\n",
        "    \"sec-ch-ua-platform\": '\"macOS\"',\n",
        "    \"Sec-Fetch-Dest\": \"empty\",\n",
        "    \"Sec-Fetch-Mode\": \"cors\",\n",
        "    \"Sec-Fetch-Site\": \"same-site\",\n",
        "    \"User-Agent\": \"Mozilla/5.0 (Macintosh; Intel Mac OS X 10_15_7) AppleWebKit/537.36 (KHTML, like Gecko) Chrome/126.0.0.0 Safari/537.36\"\n",
        "}\n",
        "\n",
        "data = {\n",
        "    \"email\": \"\",\n",
        "    \"password\": \"\"\n",
        "}\n",
        "\n",
        "response = requests.post(url, headers=headers, json=data)\n",
        "\n",
        "print(response.status_code)\n",
        "print(response.json())\n"
      ]
    },
    {
      "cell_type": "code",
      "source": [
        "# Extract the access token\n",
        "access_token = response.json()['data']['access_token']\n",
        "\n",
        "# Print the access token\n",
        "print(access_token)"
      ],
      "metadata": {
        "id": "bbqF8YYj2H7R"
      },
      "execution_count": null,
      "outputs": []
    },
    {
      "cell_type": "markdown",
      "source": [
        "# Get Program ID"
      ],
      "metadata": {
        "id": "hmfOR_KzpTjd"
      }
    },
    {
      "cell_type": "code",
      "source": [
        "# URL for the GET request\n",
        "url = 'https://api.kampusmerdeka.kemdikbud.go.id/v1alpha2/mentors/programs'\n",
        "\n",
        "# Headers for the GET request\n",
        "headers = {\n",
        "    'Accept': '*/*',\n",
        "    'Accept-Encoding': 'gzip, deflate, br, zstd',\n",
        "    'Accept-Language': 'en-US,en;q=0.9',\n",
        "    'Authorization': f'Bearer {access_token}',\n",
        "    'Origin': 'https://mentor.kampusmerdeka.kemdikbud.go.id',\n",
        "    'Referer': 'https://mentor.kampusmerdeka.kemdikbud.go.id/',\n",
        "    'sec-ch-ua': '\"Not/A)Brand\";v=\"8\", \"Chromium\";v=\"126\", \"Google Chrome\";v=\"126\"',\n",
        "    'sec-ch-ua-mobile': '?0',\n",
        "    'sec-ch-ua-platform': '\"macOS\"',\n",
        "    'Sec-Fetch-Dest': 'empty',\n",
        "    'Sec-Fetch-Mode': 'cors',\n",
        "    'Sec-Fetch-Site': 'same-site',\n",
        "    'User-Agent': 'Mozilla/5.0 (Macintosh; Intel Mac OS X 10_15_7) AppleWebKit/537.36 (KHTML, like Gecko) Chrome/126.0.0.0 Safari/537.36'\n",
        "}\n",
        "\n",
        "# Make the GET request\n",
        "response = requests.get(url, headers=headers)\n",
        "\n",
        "# Print the response (or handle it as needed)\n",
        "print(response.json())"
      ],
      "metadata": {
        "id": "JMI0rYzi2RLP"
      },
      "execution_count": null,
      "outputs": []
    },
    {
      "cell_type": "code",
      "source": [
        "# Extract the program_id\n",
        "program_id = response.json()['data'][0]['program_id']\n",
        "\n",
        "# Print the program_id\n",
        "print(program_id)"
      ],
      "metadata": {
        "id": "gnONuh1z3HOa"
      },
      "execution_count": null,
      "outputs": []
    },
    {
      "cell_type": "markdown",
      "source": [
        "# Get Activity ID"
      ],
      "metadata": {
        "id": "UC5yofdvpW5m"
      }
    },
    {
      "cell_type": "code",
      "source": [
        "url = f\"https://api.kampusmerdeka.kemdikbud.go.id/v1alpha1/mentors/me/mentees?program_id={program_id}&offset=0&limit=50\"\n",
        "\n",
        "# Make the GET request\n",
        "response = requests.get(url, headers=headers)\n",
        "\n",
        "# Print the response (or handle it as needed)\n",
        "print(response.status_code)\n",
        "print(response.json())"
      ],
      "metadata": {
        "id": "Yv9N82ZX3Xnp"
      },
      "execution_count": null,
      "outputs": []
    },
    {
      "cell_type": "code",
      "source": [
        "# Extract the program_id\n",
        "activity_id = response.json()[\"data\"][0][\"activity_id\"]\n",
        "\n",
        "# Print the program_id\n",
        "print(activity_id)"
      ],
      "metadata": {
        "id": "SUEli-s17uNj"
      },
      "execution_count": null,
      "outputs": []
    },
    {
      "cell_type": "markdown",
      "source": [
        "# Get Student Name and ID Student"
      ],
      "metadata": {
        "id": "U4zXTIbZpaHp"
      }
    },
    {
      "cell_type": "code",
      "source": [
        "# Extract just the id and name from each entry in the data list\n",
        "id_name_list = [{'id': item['id'], 'name': item['name']} for item in response.json()['data']]\n",
        "\n",
        "# Print the extracted list\n",
        "print(id_name_list)"
      ],
      "metadata": {
        "id": "qZGhBbJn37qH"
      },
      "execution_count": null,
      "outputs": []
    },
    {
      "cell_type": "markdown",
      "source": [
        "# Get ID Module and Module Name"
      ],
      "metadata": {
        "id": "tuw8ClB3plhh"
      }
    },
    {
      "cell_type": "code",
      "source": [
        "url = f\"https://api.kampusmerdeka.kemdikbud.go.id/v1alpha1/mentors/me/mentees/{id_name_list[0]['id']}/activities/{activity_id}/final_assessment\"\n",
        "\n",
        "# Make the GET request\n",
        "response = requests.get(url, headers=headers)\n",
        "response_data = response.json()\n",
        "\n",
        "# Print the response (or handle it as needed)\n",
        "print(response.status_code)\n",
        "print(response.json())"
      ],
      "metadata": {
        "id": "5TI6F9Pu6twF"
      },
      "execution_count": null,
      "outputs": []
    },
    {
      "cell_type": "markdown",
      "source": [
        "# Load Data"
      ],
      "metadata": {
        "id": "f3mu6v0cpqVF"
      }
    },
    {
      "cell_type": "code",
      "source": [
        "# Load the spreadsheet\n",
        "file_path = '/content/ML-59 - Final Evaluation Bangkit 2024 Batch 1.xlsx'\n",
        "spreadsheet = pd.ExcelFile(file_path)\n",
        "\n",
        "# Load the data from both sheets\n",
        "sheet1_data = pd.read_excel(spreadsheet, 'Sheet1')\n",
        "comments_data = pd.read_excel(spreadsheet, sheet_name=1)\n",
        "\n",
        "# Data from the first sheet\n",
        "students_scores = sheet1_data.set_index('Nama')\n",
        "\n",
        "# Comments for different score ranges from the second sheet\n",
        "comments_data = comments_data.set_index('Course List')\n",
        "\n",
        "# Function to get the comment based on the module name and score\n",
        "def get_comment(module_name, score):\n",
        "    closest_module_name = process.extractOne(module_name, comments_data.index.tolist())[0]\n",
        "    if score >= 70:\n",
        "        return comments_data.loc[closest_module_name, 'Comment for score range : 100 - 70']\n",
        "    elif score >= 40:\n",
        "        return comments_data.loc[closest_module_name, 'Comment for score range : 60 - 40']\n",
        "    else:\n",
        "        return comments_data.loc[closest_module_name, 'Comment for score range : 30-0']\n",
        "\n",
        "\n",
        "def generate_student_json(response_data, student_name):\n",
        "    # Fuzzy match the student name\n",
        "    closest_student_name = process.extractOne(student_name, students_scores.index.tolist())[0]\n",
        "\n",
        "    # Transform the data to fit the required template\n",
        "    result = {\n",
        "        \"comment\": response_data['data']['comment'],\n",
        "        \"status\": response_data['data']['status'],\n",
        "        \"scores\": []\n",
        "    }\n",
        "\n",
        "    # Iterate through the modules and construct the score data\n",
        "    for module in response_data['data']['modules']:\n",
        "        module_id = module['id']\n",
        "        module_name = module['name']\n",
        "\n",
        "        # Fuzzy match the module name\n",
        "        closest_module_name = process.extractOne(module_name, students_scores.columns.tolist())[0]\n",
        "\n",
        "        score = students_scores.loc[closest_student_name, closest_module_name]\n",
        "        comment = get_comment(module_name, score)\n",
        "\n",
        "        result[\"scores\"].append({\n",
        "            \"module_id\": module_id,\n",
        "            \"module_name\": closest_module_name,\n",
        "            \"skill_id\": \"\",\n",
        "            \"skill_name\": \"\",\n",
        "            \"comment\": comment,\n",
        "            \"score\": score\n",
        "        })\n",
        "\n",
        "    json_data = json.dumps(result, cls=NpEncoder)\n",
        "    return json_data"
      ],
      "metadata": {
        "id": "4uXetDr6Bm61"
      },
      "execution_count": null,
      "outputs": []
    },
    {
      "cell_type": "markdown",
      "source": [
        "# Send Data All Students"
      ],
      "metadata": {
        "id": "GYgAargNpvb9"
      }
    },
    {
      "cell_type": "code",
      "source": [
        "for item in id_name_list:\n",
        "    id = item['id']\n",
        "    name = item['name']\n",
        "\n",
        "    print(f\"Processing, {id}, {name}\")\n",
        "\n",
        "    url = f\"https://api.kampusmerdeka.kemdikbud.go.id/v1alpha1/mentors/me/mentees/{id}/activities/{activity_id}/final_assessment\"\n",
        "    payload = generate_student_json(response_data, name)\n",
        "    response = requests.request(\"POST\", url, headers=headers, data=payload)\n",
        "    print(response.status_code, \"-----\\n\")\n",
        "\n",
        "    # save payload into file\n",
        "    with open(f\"{name}.json\", \"w\") as f:\n",
        "        f.write(payload)"
      ],
      "metadata": {
        "id": "AmYU69m4M1Oe"
      },
      "execution_count": null,
      "outputs": []
    },
    {
      "cell_type": "code",
      "source": [],
      "metadata": {
        "id": "LGszIiF3s8kd"
      },
      "execution_count": null,
      "outputs": []
    }
  ]
}